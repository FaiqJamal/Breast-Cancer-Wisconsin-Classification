{
  "nbformat": 4,
  "nbformat_minor": 0,
  "metadata": {
    "colab": {
      "provenance": []
    },
    "kernelspec": {
      "name": "python3",
      "display_name": "Python 3"
    },
    "language_info": {
      "name": "python"
    }
  },
  "cells": [
    {
      "cell_type": "markdown",
      "source": [
        "# **Classification Techniques on Breast Cancer Wisconsin (Diagnostic) dataset**"
      ],
      "metadata": {
        "id": "XQwZFq02WwZ8"
      }
    },
    {
      "cell_type": "markdown",
      "source": [
        "Import the necessary libraries"
      ],
      "metadata": {
        "id": "TVQbWn_uXBgD"
      }
    },
    {
      "cell_type": "code",
      "execution_count": 28,
      "metadata": {
        "id": "m52fJrD8WvqV"
      },
      "outputs": [],
      "source": [
        "from sklearn.datasets import load_breast_cancer\n",
        "from sklearn.preprocessing import StandardScaler\n",
        "from sklearn.model_selection import train_test_split\n",
        "from sklearn.neighbors import KNeighborsClassifier\n",
        "from sklearn.cluster import KMeans\n",
        "from sklearn.linear_model import LogisticRegression\n",
        "from sklearn.svm import SVC\n",
        "from sklearn.metrics import accuracy_score, precision_score, recall_score, f1_score\n"
      ]
    },
    {
      "cell_type": "markdown",
      "source": [
        "Load the data and split train and test sample."
      ],
      "metadata": {
        "id": "4fg4E6KHXLsk"
      }
    },
    {
      "cell_type": "code",
      "source": [
        "# Load the Breast Cancer Wisconsin (Diagnostic) dataset\n",
        "df = load_breast_cancer()\n",
        "# Separate the input features and target labels\n",
        "X = df.data\n",
        "y = df.target\n",
        "# Split the dataset into training and testing sets\n",
        "X_train, X_test, y_train, y_test = train_test_split(X, y, test_size=0.2, random_state=42)\n",
        "# Standardize the data using the training set mean and variance\n",
        "scaler = StandardScaler()\n",
        "X_train_std = scaler.fit_transform(X_train)\n",
        "X_test_std = scaler.transform(X_test)\n"
      ],
      "metadata": {
        "id": "gi34wr66XI_7"
      },
      "execution_count": 29,
      "outputs": []
    },
    {
      "cell_type": "markdown",
      "source": [
        "**Using KNN Classifier with k=3**"
      ],
      "metadata": {
        "id": "lXqFwJAoXTfH"
      }
    },
    {
      "cell_type": "code",
      "source": [
        "# KNN classifier\n",
        "kNN_Classifier = KNeighborsClassifier(n_neighbors=3)\n",
        "kNN_Classifier.fit(X_train_std, y_train)\n",
        "kNN_prediction = kNN_Classifier.predict(X_test_std )\n"
      ],
      "metadata": {
        "id": "rHNuqMXuXZRd"
      },
      "execution_count": 30,
      "outputs": []
    },
    {
      "cell_type": "code",
      "source": [
        "# Calculate accuracy, precision, recall, and F1 score for each classifier\n",
        "print(\"KNN Classifier:\")\n",
        "print(\"Accuracy: \", accuracy_score(y_test, kNN_prediction))\n",
        "print(\"Precision: \", precision_score(y_test, kNN_prediction, average='macro'))\n",
        "print(\"Recall: \", recall_score(y_test, kNN_prediction, average='macro'))\n",
        "print(\"F1 Score: \", f1_score(y_test, kNN_prediction, average='macro'))"
      ],
      "metadata": {
        "colab": {
          "base_uri": "https://localhost:8080/"
        },
        "id": "glRTmN4lYsV3",
        "outputId": "8d53e403-3095-407e-8840-71187c23ce26"
      },
      "execution_count": 31,
      "outputs": [
        {
          "output_type": "stream",
          "name": "stdout",
          "text": [
            "KNN Classifier:\n",
            "Accuracy:  0.9473684210526315\n",
            "Precision:  0.9439895185063871\n",
            "Recall:  0.9439895185063871\n",
            "F1 Score:  0.9439895185063871\n"
          ]
        }
      ]
    },
    {
      "cell_type": "markdown",
      "source": [
        "**Using K Means clustering with k=3**"
      ],
      "metadata": {
        "id": "nlx5CtdpZuAU"
      }
    },
    {
      "cell_type": "code",
      "source": [
        "# KMeans clustering\n",
        "KMeans = KMeans(n_clusters=3, random_state=42)\n",
        "KMeans.fit(X_train_std)\n",
        "KMeans_prediction = KMeans.predict(X_test_std)"
      ],
      "metadata": {
        "colab": {
          "base_uri": "https://localhost:8080/"
        },
        "id": "MrwIeKILZ1MW",
        "outputId": "657a9f49-7d3c-4337-c633-9d88b234f586"
      },
      "execution_count": 32,
      "outputs": [
        {
          "output_type": "stream",
          "name": "stderr",
          "text": [
            "/usr/local/lib/python3.10/dist-packages/sklearn/cluster/_kmeans.py:870: FutureWarning: The default value of `n_init` will change from 10 to 'auto' in 1.4. Set the value of `n_init` explicitly to suppress the warning\n",
            "  warnings.warn(\n"
          ]
        }
      ]
    },
    {
      "cell_type": "code",
      "source": [
        "print(\"KMeans Clustering:\")\n",
        "print(\"Accuracy: \", accuracy_score(y_test, KMeans_prediction))\n",
        "print(\"Precision: \", precision_score(y_test, KMeans_prediction, average='macro'))\n",
        "print(\"Recall: \", recall_score(y_test, KMeans_prediction, average='macro'))\n",
        "print(\"F1 Score: \", f1_score(y_test, KMeans_prediction, average='macro'))"
      ],
      "metadata": {
        "colab": {
          "base_uri": "https://localhost:8080/"
        },
        "id": "OYYZx6CjaEen",
        "outputId": "7c0a90c2-5003-4816-ee49-2deeea2171ea"
      },
      "execution_count": 33,
      "outputs": [
        {
          "output_type": "stream",
          "name": "stdout",
          "text": [
            "KMeans Clustering:\n",
            "Accuracy:  0.08771929824561403\n",
            "Precision:  0.12263535551206783\n",
            "Recall:  0.06529097062998145\n",
            "F1 Score:  0.0658553076402975\n"
          ]
        },
        {
          "output_type": "stream",
          "name": "stderr",
          "text": [
            "/usr/local/lib/python3.10/dist-packages/sklearn/metrics/_classification.py:1344: UndefinedMetricWarning: Recall is ill-defined and being set to 0.0 in labels with no true samples. Use `zero_division` parameter to control this behavior.\n",
            "  _warn_prf(average, modifier, msg_start, len(result))\n"
          ]
        }
      ]
    },
    {
      "cell_type": "markdown",
      "source": [
        "**Using Logistic Regression to make probability estimates for each classification**"
      ],
      "metadata": {
        "id": "SRCZtoPvX0Lo"
      }
    },
    {
      "cell_type": "code",
      "source": [
        "# Logistic regression classifier\n",
        "logisticReg_model = LogisticRegression(random_state=42)\n",
        "logisticReg_model.fit(X_train_std, y_train)\n",
        "logisticReg_prediction = logisticReg_model.predict(X_test_std)"
      ],
      "metadata": {
        "id": "diNt3o0MXzLi"
      },
      "execution_count": 34,
      "outputs": []
    },
    {
      "cell_type": "code",
      "source": [
        "print(\"\\nLogistic Regression Classifier:\")\n",
        "print(\"Accuracy: \", accuracy_score(y_test, logisticReg_prediction))\n",
        "print(\"Precision: \", precision_score(y_test, logisticReg_prediction, average='macro'))\n",
        "print(\"Recall: \", recall_score(y_test, logisticReg_prediction, average='macro'))\n",
        "print(\"F1 Score: \", f1_score(y_test, logisticReg_prediction, average='macro'))"
      ],
      "metadata": {
        "colab": {
          "base_uri": "https://localhost:8080/"
        },
        "id": "ywn84U8OY9gZ",
        "outputId": "383fcf71-5b13-48e3-c072-520bb72d84f0"
      },
      "execution_count": 35,
      "outputs": [
        {
          "output_type": "stream",
          "name": "stdout",
          "text": [
            "\n",
            "Logistic Regression Classifier:\n",
            "Accuracy:  0.9736842105263158\n",
            "Precision:  0.9742063492063492\n",
            "Recall:  0.9697019325253848\n",
            "F1 Score:  0.97186343068696\n"
          ]
        }
      ]
    },
    {
      "cell_type": "markdown",
      "source": [
        "**Support Vector Machine Classifier**"
      ],
      "metadata": {
        "id": "1Yzmx6t2YUrv"
      }
    },
    {
      "cell_type": "code",
      "source": [
        "# SVM classifier\n",
        "SVM_model = SVC(kernel='linear', random_state=42)\n",
        "SVM_model.fit(X_train_std, y_train)\n",
        "SVM_prediction = SVM_model.predict(X_test_std)"
      ],
      "metadata": {
        "id": "js6Ygb-mYdgk"
      },
      "execution_count": 36,
      "outputs": []
    },
    {
      "cell_type": "code",
      "source": [
        "print(\"\\nSVM Classifier:\")\n",
        "print(\"Accuracy: \", accuracy_score(y_test, SVM_prediction))\n",
        "print(\"Precision: \", precision_score(y_test, SVM_prediction, average='macro'))\n",
        "print(\"Recall: \", recall_score(y_test, SVM_prediction, average='macro'))\n",
        "print(\"F1 Score: \", f1_score(y_test, SVM_prediction, average='macro'))"
      ],
      "metadata": {
        "colab": {
          "base_uri": "https://localhost:8080/"
        },
        "id": "CRoGuP6lZNOb",
        "outputId": "81cc4b44-af0c-475a-b764-6d0156de995d"
      },
      "execution_count": 37,
      "outputs": [
        {
          "output_type": "stream",
          "name": "stdout",
          "text": [
            "\n",
            "SVM Classifier:\n",
            "Accuracy:  0.956140350877193\n",
            "Precision:  0.9516233766233766\n",
            "Recall:  0.9556174254831313\n",
            "F1 Score:  0.9535338713621913\n"
          ]
        }
      ]
    }
  ]
}